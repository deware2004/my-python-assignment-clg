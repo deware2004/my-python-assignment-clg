{
 "cells": [
  {
   "cell_type": "markdown",
   "id": "5dfa604e",
   "metadata": {},
   "source": [
    "# Python program to check whether the given number is even or not\n"
   ]
  },
  {
   "cell_type": "code",
   "execution_count": 1,
   "id": "ca8735b6",
   "metadata": {},
   "outputs": [
    {
     "name": "stdout",
     "output_type": "stream",
     "text": [
      "Enter a number: 123\n",
      "123 is Odd\n"
     ]
    }
   ],
   "source": [
    "num = int(input(\"Enter a number: \"))\n",
    "if (num % 2) == 0:\n",
    "    print(\"{0} is Even\".format(num))\n",
    "else:\n",
    "    print(\"{0} is Odd\".format(num))"
   ]
  },
  {
   "cell_type": "code",
   "execution_count": 2,
   "id": "ad7f7354",
   "metadata": {},
   "outputs": [
    {
     "name": "stdout",
     "output_type": "stream",
     "text": [
      "Enter a number: 1246\n",
      "1246 is Even\n"
     ]
    }
   ],
   "source": [
    "num = int(input(\"Enter a number: \"))\n",
    "if (num % 2) == 0:\n",
    "    print(\"{0} is Even\".format(num))\n",
    "else:\n",
    "    print(\"{0} is Odd\".format(num))"
   ]
  },
  {
   "cell_type": "markdown",
   "id": "c9742ad9",
   "metadata": {},
   "source": [
    "# Python program to convert the temparature in degree centigrade to Feherenheit"
   ]
  },
  {
   "cell_type": "code",
   "execution_count": 3,
   "id": "2f120fea",
   "metadata": {},
   "outputs": [
    {
     "name": "stdout",
     "output_type": "stream",
     "text": [
      "Enter temperature in centigrade: 100\n",
      "100.0 degree centigrade is equal to =  212.0 degree Fahrenheit.\n"
     ]
    }
   ],
   "source": [
    "centigrade = float(input(\"Enter temperature in centigrade: \"))\n",
    "\n",
    "fahrenheit = (centigrade * 1.8) + 32\n",
    "\n",
    "print(str(centigrade )+ \" degree centigrade is equal to =  \" + str(fahrenheit )+\n",
    "   \" degree Fahrenheit.\")"
   ]
  },
  {
   "cell_type": "markdown",
   "id": "a242aef4",
   "metadata": {},
   "source": [
    "# Python program to find the area of a tringle whose sides are given\n"
   ]
  },
  {
   "cell_type": "code",
   "execution_count": 4,
   "id": "d5f2fa45",
   "metadata": {},
   "outputs": [
    {
     "name": "stdout",
     "output_type": "stream",
     "text": [
      "Enter first side: 20\n",
      "Enter second side: 30\n",
      "Enter third side: 40\n",
      "semi-parimeter of the tringle 45.0\n",
      "the area of the tringle is 290.4737509655563\n"
     ]
    }
   ],
   "source": [
    "a = float(input(\"Enter first side: \"))\n",
    "b = float(input(\"Enter second side: \"))\n",
    "c = float(input(\"Enter third side: \"))\n",
    "#calculat the semi-parimeter\n",
    "S = ( a + b + c)/2\n",
    "print(\"semi-parimeter of the tringle\",S)\n",
    "#calculate the area of tringle\n",
    "area = (S*(S-a)*(S-b)*(S-c))**0.5\n",
    "print('the area of the tringle is',area)"
   ]
  },
  {
   "cell_type": "markdown",
   "id": "f4642f1e",
   "metadata": {},
   "source": [
    "# Python program to find the circumference & area of a circle with the given radius"
   ]
  },
  {
   "cell_type": "code",
   "execution_count": 5,
   "id": "bdbed251",
   "metadata": {},
   "outputs": [
    {
     "name": "stdout",
     "output_type": "stream",
     "text": [
      "enter the radius of circle:20\n",
      "\n",
      " diameter of a circle =  40.0\n",
      "\n",
      " circumfenrence of a circle =  125.60000000000001\n",
      "\n",
      " area of a circle =  1256.0\n"
     ]
    }
   ],
   "source": [
    "PI = 3.14\n",
    "radius = float(input('enter the radius of circle:'))\n",
    "diameter = 2*radius\n",
    "circumference = 2*PI*radius\n",
    "area = PI*radius*radius\n",
    "print(\"\\n diameter of a circle = \", diameter)\n",
    "print(\"\\n circumfenrence of a circle = \", circumference)\n",
    "print(\"\\n area of a circle = \", area)"
   ]
  },
  {
   "cell_type": "markdown",
   "id": "f076748e",
   "metadata": {},
   "source": [
    "# Python program to display the given integer in a reverse manner"
   ]
  },
  {
   "cell_type": "code",
   "execution_count": 32,
   "id": "0ed6c99e",
   "metadata": {},
   "outputs": [
    {
     "name": "stdout",
     "output_type": "stream",
     "text": [
      "enter the integer number:1234\n",
      "the reverse number is: 4321\n"
     ]
    }
   ],
   "source": [
    "number = int(input('enter the integer number:'))\n",
    "\n",
    "reve_number = 0\n",
    "while (number>0):\n",
    "    reminder = number % 10\n",
    "    reve_number = (reve_number * 10) + reminder\n",
    "    number = number // 10\n",
    "print('the reverse number is: {}'. format(reve_number))"
   ]
  },
  {
   "cell_type": "markdown",
   "id": "bc32d7b6",
   "metadata": {},
   "source": [
    "# Python program to find the sum of the digits of an integer using while loop\n"
   ]
  },
  {
   "cell_type": "code",
   "execution_count": 33,
   "id": "50082b7f",
   "metadata": {},
   "outputs": [
    {
     "name": "stdout",
     "output_type": "stream",
     "text": [
      "enter any number :12\n",
      "\n",
      " sum of the digits of given numbers=   3\n"
     ]
    }
   ],
   "source": [
    "number = int(input(\"enter any number :\"))\n",
    "sum = 0\n",
    "while (number>0):\n",
    "    reminder = number % 10\n",
    "    sum = sum + reminder\n",
    "    number = number//10\n",
    "print(\"\\n sum of the digits of given numbers=  \",sum)"
   ]
  },
  {
   "cell_type": "markdown",
   "id": "6380eb46",
   "metadata": {},
   "source": [
    "# Python program to display all the multiples of 3 within the range 10 to 50\n"
   ]
  },
  {
   "cell_type": "code",
   "execution_count": 34,
   "id": "43488186",
   "metadata": {},
   "outputs": [
    {
     "name": "stdout",
     "output_type": "stream",
     "text": [
      "numbers multiples of 3 within the range 10 to 50 is [12, 15, 18, 21, 24, 27, 30, 33, 36, 39, 42, 45, 48]\n"
     ]
    }
   ],
   "source": [
    "list = []\n",
    "for i in range(10,50):\n",
    "    if i % 3 == 0:\n",
    "        list.append(i)\n",
    "print('numbers multiples of 3 within the range 10 to 50 is', list)"
   ]
  },
  {
   "cell_type": "markdown",
   "id": "82331f36",
   "metadata": {},
   "source": [
    "# Python program to find the roots of a quardic equation"
   ]
  },
  {
   "cell_type": "code",
   "execution_count": 43,
   "id": "fc46a127",
   "metadata": {},
   "outputs": [
    {
     "name": "stdout",
     "output_type": "stream",
     "text": [
      "Enter value of a: 1\n",
      "Enter value of b: 2\n",
      "Enter value of c: 3\n",
      "\n",
      "Root1 : (-1-1.4142135623730951j)\n",
      "\n",
      "Root2 : (-1+1.4142135623730951j)\n"
     ]
    }
   ],
   "source": [
    "import cmath\n",
    "\n",
    "a=float(input(\"Enter value of a: \"))\n",
    "b=float(input(\"Enter value of b: \"))\n",
    "c=float(input(\"Enter value of c: \"))\n",
    "d = (b**2)-(4*a*c)\n",
    "root1 =(-b-cmath.sqrt(d))/(2*a)\n",
    "root2 =(-b+cmath.sqrt(d))/(2*a)\n",
    "\n",
    "print(\"\\nRoot1 :\", root1)\n",
    "print(\"\\nRoot2 :\", root2)"
   ]
  },
  {
   "cell_type": "markdown",
   "id": "961b3783",
   "metadata": {},
   "source": [
    "# Python program to print the numbers from a given numbers n till 0 using recursion"
   ]
  },
  {
   "cell_type": "code",
   "execution_count": 12,
   "id": "de863ed6",
   "metadata": {},
   "outputs": [
    {
     "name": "stdout",
     "output_type": "stream",
     "text": [
      "5\n",
      "4\n",
      "3\n",
      "2\n",
      "1\n",
      "0\n"
     ]
    }
   ],
   "source": [
    "def recursive_countdown(n):\n",
    "    if n >= 0:\n",
    "        print(n)\n",
    "        recursive_countdown(n-1)\n",
    "\n",
    "n = 5\n",
    "recursive_countdown(n)"
   ]
  },
  {
   "cell_type": "markdown",
   "id": "3a34e8af",
   "metadata": {},
   "source": [
    "# Pthon program to find the factorial of a number using recursion"
   ]
  },
  {
   "cell_type": "code",
   "execution_count": 13,
   "id": "7c52ee7f",
   "metadata": {},
   "outputs": [
    {
     "name": "stdout",
     "output_type": "stream",
     "text": [
      "120\n"
     ]
    }
   ],
   "source": [
    "def factorial(n):\n",
    "    if n == 0:\n",
    "        return 1\n",
    "    else:\n",
    "        return n * factorial(n-1)\n",
    "\n",
    "n = 5\n",
    "print(factorial(n))"
   ]
  },
  {
   "cell_type": "markdown",
   "id": "e31fa811",
   "metadata": {},
   "source": [
    "# Python program to implement linear search"
   ]
  },
  {
   "cell_type": "code",
   "execution_count": 15,
   "id": "518e0594",
   "metadata": {},
   "outputs": [
    {
     "name": "stdout",
     "output_type": "stream",
     "text": [
      "Element is present at index 2\n"
     ]
    }
   ],
   "source": [
    "def linear_search(arr, x):\n",
    "    for i in range(len(arr)):\n",
    "        if arr[i] == x:\n",
    "            return i\n",
    "    return -1\n",
    "\n",
    "arr = ['a', 'b', 'c', 'd', 'e']\n",
    "x = 'c'\n",
    "\n",
    "result = linear_search(arr, x)\n",
    "\n",
    "if result != -1:\n",
    "    print(\"Element is present at index\", str(result))\n",
    "else:\n",
    "    print(\"Element is not present in array\")"
   ]
  },
  {
   "cell_type": "markdown",
   "id": "35f278a7",
   "metadata": {},
   "source": [
    "# Python program to find the odd number in a array"
   ]
  },
  {
   "cell_type": "code",
   "execution_count": 16,
   "id": "2859e679",
   "metadata": {},
   "outputs": [
    {
     "name": "stdout",
     "output_type": "stream",
     "text": [
      "Odd numbers in the array are:  [2, 4, 6, 8]\n"
     ]
    }
   ],
   "source": [
    "def find_odd(arr):\n",
    "    n = len(arr)\n",
    "    res = []\n",
    "    for i in range(0, n, 2):\n",
    "        res.append(arr[i])\n",
    "    return res\n",
    "\n",
    "arr = [2, 3, 4, 5, 6, 7, 8, 50]\n",
    "result = find_odd(arr)\n",
    "\n",
    "print(\"Odd numbers in the array are: \", result)"
   ]
  },
  {
   "cell_type": "markdown",
   "id": "ed56d565",
   "metadata": {},
   "source": [
    "# Python program to find the largest number in a list without using built-in-function"
   ]
  },
  {
   "cell_type": "code",
   "execution_count": 17,
   "id": "646503d4",
   "metadata": {},
   "outputs": [
    {
     "name": "stdout",
     "output_type": "stream",
     "text": [
      "The largest number in the list is:  50\n"
     ]
    }
   ],
   "source": [
    "def find_largest(lst):\n",
    "    largest = lst[0]\n",
    "    for num in lst:\n",
    "        if num > largest:\n",
    "            largest = num\n",
    "    return largest\n",
    "\n",
    "lst = [2, 3, 4, 10, 40, 45, 47, 50]\n",
    "result = find_largest(lst)\n",
    "\n",
    "print(\"The largest number in the list is: \", result)"
   ]
  },
  {
   "cell_type": "markdown",
   "id": "b58ddef7",
   "metadata": {},
   "source": [
    "# Python program to insert a number to any position in a list\n"
   ]
  },
  {
   "cell_type": "code",
   "execution_count": 18,
   "id": "7c255fd3",
   "metadata": {},
   "outputs": [
    {
     "name": "stdout",
     "output_type": "stream",
     "text": [
      "The list after inserting the number is:  [2, 3, 4, 10, 15, 40, 45, 47, 50]\n"
     ]
    }
   ],
   "source": [
    "def insert_number(lst, index, number):\n",
    "    lst.insert(index, number)\n",
    "    return lst\n",
    "\n",
    "lst = [2, 3, 4, 10, 40, 45, 47, 50]\n",
    "index = 4\n",
    "number = 15\n",
    "result = insert_number(lst, index, number)\n",
    "\n",
    "print(\"The list after inserting the number is: \", result)"
   ]
  },
  {
   "cell_type": "markdown",
   "id": "e430cf82",
   "metadata": {},
   "source": [
    "# Python program to delete a element from a list by index"
   ]
  },
  {
   "cell_type": "code",
   "execution_count": 19,
   "id": "bba37699",
   "metadata": {},
   "outputs": [
    {
     "name": "stdout",
     "output_type": "stream",
     "text": [
      "The list after deleting the element is:  [2, 3, 4, 10, 45, 47, 50]\n"
     ]
    }
   ],
   "source": [
    "def delete_element(lst, index):\n",
    "    del lst[index]\n",
    "    return lst\n",
    "\n",
    "lst = [2, 3, 4, 10, 40, 45, 47, 50]\n",
    "index = 4\n",
    "result = delete_element(lst, index)\n",
    "\n",
    "print(\"The list after deleting the element is: \", result)"
   ]
  },
  {
   "cell_type": "markdown",
   "id": "4c2241fe",
   "metadata": {},
   "source": [
    "# Python program to check whether a string is palindrome or not¶\n"
   ]
  },
  {
   "cell_type": "code",
   "execution_count": 20,
   "id": "c5d5fe12",
   "metadata": {},
   "outputs": [
    {
     "name": "stdout",
     "output_type": "stream",
     "text": [
      "The string is not a palindrome.\n"
     ]
    }
   ],
   "source": [
    "def check_palindrome(str):\n",
    "    \n",
    "    str = str.replace(\" \", \"\")\n",
    "\n",
    "str = \"Kanak\"\n",
    "result = check_palindrome(str)\n",
    "\n",
    "if result:\n",
    "    print(\"The string is a palindrome.\")\n",
    "else:\n",
    "    print(\"The string is not a palindrome.\")"
   ]
  },
  {
   "cell_type": "markdown",
   "id": "dec6649f",
   "metadata": {},
   "source": [
    "# Python program to implement matrix addition"
   ]
  },
  {
   "cell_type": "code",
   "execution_count": 21,
   "id": "0ffe55a5",
   "metadata": {},
   "outputs": [
    {
     "name": "stdout",
     "output_type": "stream",
     "text": [
      "[6, 8]\n",
      "[10, 12]\n"
     ]
    }
   ],
   "source": [
    "def matrix_addition(matrix1, matrix2):\n",
    "    \n",
    "    result = []\n",
    "\n",
    "    \n",
    "    for i in range(len(matrix1)):\n",
    "        row = []\n",
    "        for j in range(len(matrix1[0])):\n",
    "            \n",
    "            row.append(matrix1[i][j] + matrix2[i][j])\n",
    "        \n",
    "        result.append(row)\n",
    "\n",
    "    return result\n",
    "\n",
    "matrix1 = [[1, 2], [3, 4]]\n",
    "matrix2 = [[5, 6], [7, 8]]\n",
    "\n",
    "result = matrix_addition(matrix1, matrix2)\n",
    "\n",
    "for row in result:\n",
    "    print(row)"
   ]
  },
  {
   "cell_type": "markdown",
   "id": "5d268b32",
   "metadata": {},
   "source": [
    "# Python program to implement matrix multiplication"
   ]
  },
  {
   "cell_type": "code",
   "execution_count": 22,
   "id": "49e2b2cc",
   "metadata": {},
   "outputs": [
    {
     "name": "stdout",
     "output_type": "stream",
     "text": [
      "[19, 22]\n",
      "[43, 50]\n"
     ]
    }
   ],
   "source": [
    "def matrix_multiplication(matrix1, matrix2):\n",
    "    \n",
    "    result = [[0 for j in range(len(matrix2[0]))] for i in range(len(matrix1))]\n",
    "\n",
    "    for i in range(len(matrix1)):\n",
    "        for j in range(len(matrix2[0])):\n",
    "            for k in range(len(matrix2)):\n",
    "                result[i][j] += matrix1[i][k] * matrix2[k][j]\n",
    "\n",
    "    return result\n",
    "\n",
    "matrix1 = [[1, 2], [3, 4]]\n",
    "matrix2 = [[5, 6], [7, 8]]\n",
    "\n",
    "result = matrix_multiplication(matrix1, matrix2)\n",
    "\n",
    "for row in result:\n",
    "    print(row)"
   ]
  },
  {
   "cell_type": "markdown",
   "id": "d6c1d472",
   "metadata": {},
   "source": [
    "# Python program to check leap year"
   ]
  },
  {
   "cell_type": "code",
   "execution_count": 23,
   "id": "c8fec745",
   "metadata": {},
   "outputs": [
    {
     "name": "stdout",
     "output_type": "stream",
     "text": [
      "2025 is not a leap year.\n"
     ]
    }
   ],
   "source": [
    "def check_leap_year(year):\n",
    "    \n",
    "    if year % 4 == 0:\n",
    "        \n",
    "        if year % 100 == 0:\n",
    "            \n",
    "            if year % 400 == 0:\n",
    "                return True\n",
    "            else:\n",
    "                return False\n",
    "        else:\n",
    "            return True\n",
    "    else:\n",
    "        return False\n",
    "year = 2025\n",
    "\n",
    "if check_leap_year(year):\n",
    "    print(f\"{year} is a leap year.\")\n",
    "else:\n",
    "    print(f\"{year} is not a leap year.\")"
   ]
  },
  {
   "cell_type": "markdown",
   "id": "908fe084",
   "metadata": {},
   "source": [
    "# Python program to find the Nth number term in a Fibonacci series using recursion"
   ]
  },
  {
   "cell_type": "code",
   "execution_count": 24,
   "id": "0274ff1c",
   "metadata": {},
   "outputs": [
    {
     "name": "stdout",
     "output_type": "stream",
     "text": [
      "The 2th term in the Fibonacci series is 1\n"
     ]
    }
   ],
   "source": [
    "def find_nth_term(n):\n",
    "    if n <= 0:\n",
    "        print(\"Please enter a positive integer.\")\n",
    "    elif n == 1:\n",
    "        return 0\n",
    "    elif n == 2:\n",
    "        return 1\n",
    "    else:\n",
    "        return find_nth_term(n-1) + find_nth_term(n-2)\n",
    "n = 2\n",
    "print(f\"The {n}th term in the Fibonacci series is {find_nth_term(n)}\")"
   ]
  },
  {
   "cell_type": "markdown",
   "id": "a75f304d",
   "metadata": {},
   "source": [
    "# Python program to print Fibonacci series using iteration"
   ]
  },
  {
   "cell_type": "code",
   "execution_count": 25,
   "id": "7dba8a46",
   "metadata": {},
   "outputs": [
    {
     "name": "stdout",
     "output_type": "stream",
     "text": [
      "The 3th term in the Fibonacci series is 1\n"
     ]
    }
   ],
   "source": [
    "def find_nth_term(n):\n",
    "    if n <= 0:\n",
    "        print(\"Please enter a positive integer.\")\n",
    "    elif n == 1:\n",
    "        return 0\n",
    "    elif n == 2:\n",
    "        return 1\n",
    "    else:\n",
    "        a, b = 0, 1\n",
    "        for _ in range(n-2):\n",
    "            a, b = b, a + b\n",
    "        return b\n",
    "n = 3\n",
    "print(f\"The {n}th term in the Fibonacci series is {find_nth_term(n)}\")"
   ]
  },
  {
   "cell_type": "markdown",
   "id": "fe3d0aec",
   "metadata": {},
   "source": [
    "# Python program to find out the average of a set of integers"
   ]
  },
  {
   "cell_type": "code",
   "execution_count": 27,
   "id": "689eefc4",
   "metadata": {},
   "outputs": [
    {
     "name": "stdout",
     "output_type": "stream",
     "text": [
      "Enter number4\n",
      "enter a number10\n",
      "enter a number12\n",
      "enter a number13\n",
      "enter a number14\n",
      "average is 12.25\n"
     ]
    }
   ],
   "source": [
    "count=int(input(\"Enter number\"))\n",
    "i=0\n",
    "sum=0\n",
    "for i in range(count):\n",
    "    value=int(input(\"enter a number\"))\n",
    "    sum=sum+value\n",
    "    \n",
    "avg=sum/count\n",
    "print(\"average is\",avg)"
   ]
  },
  {
   "cell_type": "markdown",
   "id": "a13b5062",
   "metadata": {},
   "source": [
    "# Python program to check whether the given integer is a multiple of 5 & 7 both"
   ]
  },
  {
   "cell_type": "code",
   "execution_count": 28,
   "id": "0a284d68",
   "metadata": {},
   "outputs": [
    {
     "name": "stdout",
     "output_type": "stream",
     "text": [
      "enter the value of n:35\n",
      "35 is multiple of 5 and 7\n"
     ]
    }
   ],
   "source": [
    "n = int(input('enter the value of n:'))\n",
    "if n % 5 == 0:\n",
    "    if n % 7 == 0:\n",
    "        print(n,\"is multiple of 5 and 7\")\n",
    "    else:\n",
    "            print(n ,\"is not multiple of 5 but not 7\")\n",
    "else:\n",
    "    print(n ,\"is not multiple of 5 & 7\")"
   ]
  },
  {
   "cell_type": "markdown",
   "id": "735a0006",
   "metadata": {},
   "source": [
    "# Python program to check whether the given integer is a multiple of 5\n"
   ]
  },
  {
   "cell_type": "code",
   "execution_count": 29,
   "id": "1ef0f0ef",
   "metadata": {},
   "outputs": [
    {
     "name": "stdout",
     "output_type": "stream",
     "text": [
      "enter the value of n:14\n",
      "14 is not multiple of 5\n"
     ]
    }
   ],
   "source": [
    "n = int(input('enter the value of n:'))\n",
    "if n % 5 == 0:\n",
    "    \n",
    "        print(n,\"is multiple of 5\")\n",
    "\n",
    "else:\n",
    "    print(n ,\"is not multiple of 5\")"
   ]
  },
  {
   "cell_type": "markdown",
   "id": "22806b22",
   "metadata": {},
   "source": [
    "# Python program to find out the product of a set of real numbers. "
   ]
  },
  {
   "cell_type": "code",
   "execution_count": 30,
   "id": "5b82f2d3",
   "metadata": {},
   "outputs": [
    {
     "name": "stdout",
     "output_type": "stream",
     "text": [
      "Enter number4\n",
      "enter a number2\n",
      "enter a number4\n",
      "enter a number5\n",
      "enter a number6\n",
      "product is 240\n"
     ]
    }
   ],
   "source": [
    "count=int(input(\"Enter number\"))\n",
    "i=0\n",
    "product=1\n",
    "for i in range(count):\n",
    "    value=int(input(\"enter a number\"))\n",
    "    product=product*value\n",
    "print(\"product is\",product)"
   ]
  },
  {
   "cell_type": "markdown",
   "id": "236ce73a",
   "metadata": {},
   "source": [
    "# Python program to find the geometric mean of n integer"
   ]
  },
  {
   "cell_type": "code",
   "execution_count": 31,
   "id": "22f124ff",
   "metadata": {},
   "outputs": [
    {
     "name": "stdout",
     "output_type": "stream",
     "text": [
      "enter the number of values :3\n",
      "enter a real number:10\n",
      "enter a real number:20\n",
      "enter a real number:30\n",
      "the geometric mean is:  18.171205928321395\n"
     ]
    }
   ],
   "source": [
    "c = 0\n",
    "p = 1.0\n",
    "count = int(input(\"enter the number of values :\"))\n",
    "while (c < count):\n",
    "    x = float(input(\"enter a real number:\"))\n",
    "    c = c + 1\n",
    "    p = p * x\n",
    "gm = pow (p, 1.0 / count)\n",
    "print(\"the geometric mean is: \" , gm)"
   ]
  },
  {
   "cell_type": "markdown",
   "id": "d908e476",
   "metadata": {},
   "source": [
    "# Python number to check whether the given integer is a prime number or not"
   ]
  },
  {
   "cell_type": "code",
   "execution_count": 37,
   "id": "c30fcc01",
   "metadata": {},
   "outputs": [
    {
     "name": "stdout",
     "output_type": "stream",
     "text": [
      "enter a number :4\n",
      "4 is not a prime number\n"
     ]
    }
   ],
   "source": [
    "num = int(input(\"enter a number :\"))\n",
    "if num<=1:\n",
    "    print(num, \"is not a prime number\")\n",
    "else:\n",
    "    for i in range (2,num):\n",
    "        if(num%i) == 0:\n",
    "            print(num, \"is not a prime number\")\n",
    "            break\n",
    "        else:\n",
    "            print(num, \"is a prime number\")"
   ]
  },
  {
   "cell_type": "markdown",
   "id": "63e1e075",
   "metadata": {},
   "source": [
    "# Python program to generate the prime numbers from 1 to N"
   ]
  },
  {
   "cell_type": "code",
   "execution_count": 38,
   "id": "641078e3",
   "metadata": {},
   "outputs": [
    {
     "name": "stdout",
     "output_type": "stream",
     "text": [
      "enter a number :20\n",
      "2\n",
      "3\n",
      "5\n",
      "7\n",
      "11\n",
      "13\n",
      "17\n",
      "19\n"
     ]
    }
   ],
   "source": [
    "number = int(input(\"enter a number :\"))\n",
    "\n",
    "for num in range (2, number+1):\n",
    "    if num>1:\n",
    "        for i in range(2, num):\n",
    "            if (num%i) == 0:\n",
    "                break\n",
    "        else:\n",
    "            print(num)"
   ]
  },
  {
   "cell_type": "markdown",
   "id": "a2633bfc",
   "metadata": {},
   "source": [
    "# Python program to display the sum of n numbers using a list"
   ]
  },
  {
   "cell_type": "code",
   "execution_count": 39,
   "id": "391c24b7",
   "metadata": {},
   "outputs": [
    {
     "name": "stdout",
     "output_type": "stream",
     "text": [
      "sum of list is 21\n"
     ]
    }
   ],
   "source": [
    "list=[1,2,3,4,5,6]\n",
    "sum=0\n",
    "for i in list:\n",
    "    sum=sum+i\n",
    "print(\"sum of list is\",sum )"
   ]
  },
  {
   "cell_type": "markdown",
   "id": "8df16dad",
   "metadata": {},
   "source": [
    "# Python program to print all the items in a dictionary"
   ]
  },
  {
   "cell_type": "code",
   "execution_count": 40,
   "id": "329b26e2",
   "metadata": {},
   "outputs": [
    {
     "name": "stdout",
     "output_type": "stream",
     "text": [
      "name: John\n",
      "age: 25\n",
      "city: New York\n"
     ]
    }
   ],
   "source": [
    "\n",
    "a_dict = {\n",
    "    \"name\": \"John\",\n",
    "    \"age\": 25,\n",
    "    \"city\": \"New York\"\n",
    "}\n",
    "def display_dictionary_items(dictionary):\n",
    "    for key, value in dictionary.items():\n",
    "        print(f\"{key}: {value}\")\n",
    "\n",
    "\n",
    "display_dictionary_items(a_dict)"
   ]
  },
  {
   "cell_type": "markdown",
   "id": "c8ee2664",
   "metadata": {},
   "source": [
    "# Python program to implement a calculator to do basic operation"
   ]
  },
  {
   "cell_type": "code",
   "execution_count": 41,
   "id": "410d67aa",
   "metadata": {},
   "outputs": [
    {
     "name": "stdout",
     "output_type": "stream",
     "text": [
      "Select operation:\n",
      "1. Addition\n",
      "2. Subtraction\n",
      "3. Multiplication\n",
      "4. Division\n",
      "Enter choice(1/2/3/4): 2\n",
      "Enter first number: 5\n",
      "Enter second number: 2\n",
      "Result:  3.0\n"
     ]
    }
   ],
   "source": [
    "def calculator():\n",
    "    print(\"Select operation:\")\n",
    "    print(\"1. Addition\")\n",
    "    print(\"2. Subtraction\")\n",
    "    print(\"3. Multiplication\")\n",
    "    print(\"4. Division\")\n",
    "\n",
    "    operation = input(\"Enter choice(1/2/3/4): \")\n",
    "\n",
    "    if operation in ('1', '2', '3', '4'):\n",
    "        num1 = float(input(\"Enter first number: \"))\n",
    "        num2 = float(input(\"Enter second number: \"))\n",
    "\n",
    "        if operation == '1':\n",
    "            result = num1 + num2\n",
    "        elif operation == '2':\n",
    "            result = num1 - num2\n",
    "        elif operation == '3':\n",
    "            result = num1 * num2\n",
    "        else:\n",
    "            result = num1 / num2\n",
    "\n",
    "        print(\"Result: \", result)\n",
    "\n",
    "    else:\n",
    "        print(\"Invalid input\")\n",
    "\n",
    "\n",
    "calculator()"
   ]
  },
  {
   "cell_type": "code",
   "execution_count": null,
   "id": "f859b892",
   "metadata": {},
   "outputs": [],
   "source": []
  }
 ],
 "metadata": {
  "kernelspec": {
   "display_name": "Python 3 (ipykernel)",
   "language": "python",
   "name": "python3"
  },
  "language_info": {
   "codemirror_mode": {
    "name": "ipython",
    "version": 3
   },
   "file_extension": ".py",
   "mimetype": "text/x-python",
   "name": "python",
   "nbconvert_exporter": "python",
   "pygments_lexer": "ipython3",
   "version": "3.11.5"
  }
 },
 "nbformat": 4,
 "nbformat_minor": 5
}
